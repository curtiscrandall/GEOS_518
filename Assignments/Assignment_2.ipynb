{
 "cells": [
  {
   "cell_type": "markdown",
   "metadata": {},
   "source": [
    "# GEOS 518: Applied Hydro Modeling\n",
    "## Assignment 2: Autoregressive Models\n",
    "\n",
    "In this Jupyter notebook, you will complete the following tasdks with your time series data\n",
    "\n",
    "1. Read in the dataset and perform any additional pre-processing needed\n",
    "2. Split dataset into separate \"training\" and \"test\" datasets\n",
    "3. Estimate parameters of an AR1 model using the training dataset\n",
    "    - Compute the autocorrelation function\n",
    "    - Use Yule-Walker equations to estimate the AR1 parameters\n",
    "    - Use the statsmodel AR tools to estimate the parameters based on the dataset\n",
    "    - Compare the Yule-Walker parameters to those from statsmodel library\n",
    "3. Estimate parameters of an AR2 model using the training dataset\n",
    "    - Use Yule-Walker equations to estimate the AR2 parameters\n",
    "    - Use the statsmodel AR tools to estimate the parameters based on the dataset\n",
    "    - Compare the Yule-Walker parameters to those from statsmodel library\n",
    "5. Apply the AR1 and AR2 models to the \"test\" dataset (the one withheld from parameter estimation).\n",
    "6. Plot the modeled time series for the AR1 and AR2 models against the observed time series for comparison. Perhaps run a RMSE...\n",
    "7. Comment on key differences and distinctions between the models themselves and the extent to which they reproduce the observations."
   ]
  },
  {
   "cell_type": "code",
   "execution_count": null,
   "metadata": {
    "collapsed": true
   },
   "outputs": [],
   "source": []
  }
 ],
 "metadata": {
  "kernelspec": {
   "display_name": "Python 3",
   "language": "python",
   "name": "python3"
  },
  "language_info": {
   "codemirror_mode": {
    "name": "ipython",
    "version": 3
   },
   "file_extension": ".py",
   "mimetype": "text/x-python",
   "name": "python",
   "nbconvert_exporter": "python",
   "pygments_lexer": "ipython3",
   "version": "3.6.1"
  }
 },
 "nbformat": 4,
 "nbformat_minor": 2
}
