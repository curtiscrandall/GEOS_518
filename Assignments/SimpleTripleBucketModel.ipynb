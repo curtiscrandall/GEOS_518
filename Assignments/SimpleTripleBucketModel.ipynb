{
 "cells": [
  {
   "cell_type": "markdown",
   "metadata": {},
   "source": [
    "# Simple Triple Bucket Hydrology Model\n",
    "### April 9, 2018"
   ]
  },
  {
   "cell_type": "code",
   "execution_count": 117,
   "metadata": {
    "collapsed": true
   },
   "outputs": [],
   "source": [
    "import numpy as np\n",
    "import matplotlib.pyplot as plt\n",
    "import pandas as pd"
   ]
  },
  {
   "cell_type": "code",
   "execution_count": 118,
   "metadata": {
    "collapsed": true
   },
   "outputs": [],
   "source": [
    "# Sample Data\n",
    "#Nt = 100\n",
    "#dt = 1.0\n",
    "#P = np.zeros((Nt,1))\n",
    "#P[19:39] = 4.0\n",
    "#t = np.arange(1,Nt+1,1)\n",
    "\n",
    "\n",
    "# Real data import\n",
    "df = pd.read_csv('bucketData.csv', names=['Year','Month','Day','P','SM2','SM4','SM8','SM20','SM40'], skiprows=1)\n",
    "# Format a better Date column\n",
    "P = df['P'].values\n",
    "t = np.arange(0,len(P),1)\n",
    "Nt = len(P)\n",
    "dt = 1.0"
   ]
  },
  {
   "cell_type": "code",
   "execution_count": 119,
   "metadata": {},
   "outputs": [
    {
     "name": "stdout",
     "output_type": "stream",
     "text": [
      "     Year  Month  Day      P   SM2   SM4   SM8  SM20  SM40\n",
      "0    2010      1    1  0.000  31.9  37.8  28.3  26.1   9.6\n",
      "1    2010      1    2  0.000  32.2  37.4  28.7  26.8   9.9\n",
      "2    2010      1    3  0.000  32.0  36.9  28.1  26.5   9.5\n",
      "3    2010      1    4  0.000  31.6  36.4  28.2  27.1   9.6\n",
      "4    2010      1    5  0.000  31.6  36.7  27.7  26.9   9.7\n",
      "5    2010      1    6  0.000  31.3  36.3  27.8  26.9   9.7\n",
      "6    2010      1    7  0.000  31.5  36.1  27.7  27.5   9.7\n",
      "7    2010      1    8  0.000  31.0  30.2  27.7  27.4   9.5\n",
      "8    2010      1    9  0.000  30.8  20.1  27.5  27.1   9.5\n",
      "9    2010      1   10  0.000  30.5  17.5  27.4  27.1   9.5\n",
      "10   2010      1   11  0.000  30.3  22.5  27.0  27.2   9.6\n",
      "11   2010      1   12  0.000  30.2  30.7  27.1  27.3   9.3\n",
      "12   2010      1   13  0.000  30.3  33.0  26.7  27.1   9.2\n",
      "13   2010      1   14  0.000  30.4  34.1  27.0  27.1   9.4\n",
      "14   2010      1   15  0.000  30.6  33.7  27.3  26.9   9.5\n",
      "15   2010      1   16  0.000  30.5  33.4  26.9  27.0   9.4\n",
      "16   2010      1   17  0.000  30.4  33.3  27.0  27.4   9.6\n",
      "17   2010      1   18  0.000  30.5  33.1  26.8  27.3   9.4\n",
      "18   2010      1   19  0.000  30.6  32.8  27.0  27.1   9.6\n",
      "19   2010      1   20  0.000  30.6  32.7  26.9  27.1   9.2\n",
      "20   2010      1   21  5.842  32.1  39.0  28.4  27.6   9.7\n",
      "21   2010      1   22  0.000  31.8  37.3  27.9  27.5   9.7\n",
      "22   2010      1   23  0.000  31.7  37.2  28.2  27.4   9.5\n",
      "23   2010      1   24  1.016  31.5  36.1  27.9  27.6   9.4\n",
      "24   2010      1   25  0.000  31.3  35.8  27.6  27.6   9.4\n",
      "25   2010      1   26  0.000  31.0  35.1  27.4  27.5   9.6\n",
      "26   2010      1   27  0.000  31.2  34.9  27.6  27.5   9.7\n",
      "27   2010      1   28  0.000  30.8  34.3  27.8  27.4   9.6\n",
      "28   2010      1   29  0.254  30.8  34.8  27.4  27.4   9.6\n",
      "29   2010      1   30  0.000  30.7  35.5  27.2  27.7   9.7\n",
      "..    ...    ...  ...    ...   ...   ...   ...   ...   ...\n",
      "335  2010     12    2  0.000  28.0  27.1  26.4  27.7  14.8\n",
      "336  2010     12    3  0.000  27.8  27.1  26.3  27.8  14.6\n",
      "337  2010     12    4  0.000  27.6  26.9  26.4  27.9  14.8\n",
      "338  2010     12    5  0.000  27.4  26.7  26.0  27.8  14.8\n",
      "339  2010     12    6  0.000  27.0  26.5  26.1  27.5  15.0\n",
      "340  2010     12    7  0.000  27.0  26.3  26.0  27.2  15.1\n",
      "341  2010     12    8  0.762  27.1  26.6  25.5  27.3  15.3\n",
      "342  2010     12    9  0.000  26.9  26.3  25.5  27.3  14.7\n",
      "343  2010     12   10  0.000  26.7  26.2  25.5  27.3  14.9\n",
      "344  2010     12   11  0.000  26.8  26.2  25.8  27.3  14.9\n",
      "345  2010     12   12  0.000  26.4  26.0  25.5  27.0  14.7\n",
      "346  2010     12   13  0.000  26.3  26.1  25.2  26.6  14.6\n",
      "347  2010     12   14  0.000  26.1  25.7  25.4  26.5  14.9\n",
      "348  2010     12   15  0.000  26.3  25.7  25.4  26.8  14.5\n",
      "349  2010     12   16  0.000  26.1  26.0  25.4  26.8  14.6\n",
      "350  2010     12   17  0.000  25.9  25.7  25.4  26.7  14.6\n",
      "351  2010     12   18  1.270  26.0  25.7  25.2  26.8  14.6\n",
      "352  2010     12   19  0.000  26.0  25.4  25.0  26.8  14.6\n",
      "353  2010     12   20  0.000  26.1  25.5  25.2  26.8  14.5\n",
      "354  2010     12   21  0.000  26.0  25.6  25.2  26.8  14.5\n",
      "355  2010     12   22  0.000  26.0  25.5  25.0  26.7  14.5\n",
      "356  2010     12   23  0.000  25.8  25.2  24.8  26.5  14.9\n",
      "357  2010     12   24  2.794  26.0  25.5  25.0  26.6  14.9\n",
      "358  2010     12   25  0.000  26.1  25.5  24.7  26.4  14.5\n",
      "359  2010     12   26  0.000  25.7  24.8  24.8  26.2  14.5\n",
      "360  2010     12   27  0.000  25.7  24.9  24.5  25.8  14.6\n",
      "361  2010     12   28  0.000  25.9  25.1  24.6  26.1  14.4\n",
      "362  2010     12   29  0.000  26.2  25.3  24.8  26.4  14.6\n",
      "363  2010     12   30  0.000  26.1  25.3  24.8  26.4  14.6\n",
      "364  2010     12   31  0.000  26.0  25.1  24.8  26.2  14.6\n",
      "\n",
      "[365 rows x 9 columns]\n"
     ]
    }
   ],
   "source": [
    "print(df)"
   ]
  },
  {
   "cell_type": "code",
   "execution_count": 120,
   "metadata": {},
   "outputs": [
    {
     "data": {
      "image/png": "[encoded data removed]",
      "text/plain": [
       "<matplotlib.figure.Figure at 0x7f7502cfda58>"
      ]
     },
     "metadata": {},
     "output_type": "display_data"
    }
   ],
   "source": [
    "plt.figure(1)\n",
    "plt.bar(t,P)\n",
    "plt.ylabel(\"Precip. [mm/day]\")\n",
    "plt.xlabel(\"Time [d]\")\n",
    "plt.show()"
   ]
  },
  {
   "cell_type": "code",
   "execution_count": 121,
   "metadata": {},
   "outputs": [
    {
     "name": "stdout",
     "output_type": "stream",
     "text": [
      "(365,)\n",
      "(365,)\n"
     ]
    }
   ],
   "source": [
    "print(P.shape)\n",
    "print(t.shape)"
   ]
  },
  {
   "cell_type": "code",
   "execution_count": 124,
   "metadata": {},
   "outputs": [
    {
     "name": "stdout",
     "output_type": "stream",
     "text": [
      "done\n"
     ]
    }
   ],
   "source": [
    "k1 = 0.020  # drainage coefficient in units per day\n",
    "k2 = 0.015  # drainage coefficient in units per day\n",
    "k3 = 0.010  # drainage coefficient in units per day\n",
    "W1_0 = 250.0  # water storage initial condition in mm\n",
    "\n",
    "# initializing data container for water storage at each time step\n",
    "W1 = np.zeros(t.shape)\n",
    "W2 = np.zeros(t.shape)\n",
    "W3 = np.zeros(t.shape)\n",
    "# update initial condition for storage\n",
    "W1[0] = W1_0\n",
    "W2[0] = W1_0\n",
    "W3[0] = W1_0\n",
    "\n",
    "# initialize data container for discharge at each time step\n",
    "Q1 = np.zeros(t.shape)\n",
    "Q2 = np.zeros(t.shape)\n",
    "Qb = np.zeros(t.shape)\n",
    "\n",
    "# update initial condition for discharge\n",
    "Q1[0] = k1*W1_0\n",
    "Q2[0] = k2*W1_0\n",
    "Qb[0] = k3*W1_0\n",
    "\n",
    "# main loop for analysis\n",
    "for i in np.arange(1,Nt,1):\n",
    "    \n",
    "    # compute the value of the derivatives\n",
    "    dW1dt = P[i-1] - k1*W1[i-1]\n",
    "    dW2dt = k1*W1[i-1] - k2*W2[i-1]\n",
    "    dW3dt = k2*W2[i-1] - k3*W3[i-1]\n",
    "    \n",
    "    \n",
    "    # compute next value of W\n",
    "    W1[i] = W1[i-1]+dW1dt*dt\n",
    "    W2[i] = W2[i-1]+dW2dt*dt\n",
    "    W3[i] = W2[i-1]+dW3dt*dt\n",
    "    \n",
    "    # compute next value of Q\n",
    "    \n",
    "    Qb[i] = k3*W3[i]\n",
    "    \n",
    "print('done')"
   ]
  },
  {
   "cell_type": "code",
   "execution_count": 125,
   "metadata": {},
   "outputs": [
    {
     "name": "stdout",
     "output_type": "stream",
     "text": [
      "(365,)\n",
      "(365,)\n",
      "(365,)\n",
      "253.39753125\n"
     ]
    }
   ],
   "source": [
    "print(W1.shape)\n",
    "print(W2.shape)\n",
    "print(W3.shape)\n",
    "print(W2[3])"
   ]
  },
  {
   "cell_type": "code",
   "execution_count": 126,
   "metadata": {},
   "outputs": [
    {
     "data": {
      "image/png": "[encoded data removed]",
      "text/plain": [
       "<matplotlib.figure.Figure at 0x7f750317fe10>"
      ]
     },
     "metadata": {},
     "output_type": "display_data"
    }
   ],
   "source": [
    "plt.figure(2)\n",
    "plt.subplot(5,1,1)\n",
    "plt.bar(t,P)\n",
    "plt.subplot(5,1,2)\n",
    "plt.plot(t,W1)\n",
    "plt.subplot(5,1,3)\n",
    "plt.plot(t,W2)\n",
    "plt.subplot(5,1,4)\n",
    "plt.plot(t,W3)\n",
    "plt.subplot(5,1,5)\n",
    "plt.plot(t,Q)\n",
    "plt.show()"
   ]
  },
  {
   "cell_type": "code",
   "execution_count": null,
   "metadata": {
    "collapsed": true
   },
   "outputs": [],
   "source": []
  }
 ],
 "metadata": {
  "kernelspec": {
   "display_name": "Python 3",
   "language": "python",
   "name": "python3"
  },
  "language_info": {
   "codemirror_mode": {
    "name": "ipython",
    "version": 3
   },
   "file_extension": ".py",
   "mimetype": "text/x-python",
   "name": "python",
   "nbconvert_exporter": "python",
   "pygments_lexer": "ipython3",
   "version": "3.6.1"
  }
 },
 "nbformat": 4,
 "nbformat_minor": 2
}
